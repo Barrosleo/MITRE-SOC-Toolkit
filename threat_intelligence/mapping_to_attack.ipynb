# Import necessary libraries
import pandas as pd

# Dummy data
data = [
    {"indicator": "1.2.3.4", "description": "Suspicious IP associated with phishing", "mapped_technique": None},
    {"indicator": "bad-domain.com", "description": "Domain used in C2 communications", "mapped_technique": None}
]

# Convert to DataFrame
df = pd.DataFrame(data)
print("Initial Data:")
print(df)

# Simple mapping rules
def map_to_attack(description):
    description = description.lower()
    if "phish" in description:
        return "T1566"
    elif "c2" in description:
        return "T1071"
    else:
        return "Unknown"

df["mapped_technique"] = df["description"].apply(map_to_attack)
print("\nMapped Data:")
print(df)
